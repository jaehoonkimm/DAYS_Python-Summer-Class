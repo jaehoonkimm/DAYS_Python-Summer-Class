{
 "cells": [
  {
   "cell_type": "markdown",
   "metadata": {},
   "source": [
    "# DataFrame 만들기"
   ]
  },
  {
   "cell_type": "markdown",
   "metadata": {},
   "source": [
    "          name  apple  banana  orange   beef   pork\n",
    "Mart1  김씨네   2500    1200    1600  23000  12500\n",
    "Mart2  차씨네   2000    1700    1750  22500  13000\n",
    "Mart3  이씨네   2500    1300    1450  24500  11700\n",
    "Mart4  서씨네   2700    1500    1600  22700  14500\n",
    "Mart5  박씨네   2350    1450    1340  23500  15500\n",
    "Mart6  한씨네   2550    1800    1700  23000  15000\n",
    "\n",
    "이렇게 생긴 데이터 프레임 만들기\n"
   ]
  },
  {
   "cell_type": "code",
   "execution_count": null,
   "metadata": {},
   "outputs": [],
   "source": []
  },
  {
   "cell_type": "markdown",
   "metadata": {},
   "source": [
    "# 기초통계 구하기"
   ]
  },
  {
   "cell_type": "markdown",
   "metadata": {},
   "source": [
    "각각의 변수별로 데이터 기초통계를 출력하세요\n",
    "hint. mean(), std()등을 사용해도 좋고 describe()를 사용해도 좋습니다"
   ]
  },
  {
   "cell_type": "code",
   "execution_count": null,
   "metadata": {},
   "outputs": [],
   "source": []
  },
  {
   "cell_type": "markdown",
   "metadata": {},
   "source": [
    "# 과일값, 고기값 합 구해서 추가하기"
   ]
  },
  {
   "cell_type": "markdown",
   "metadata": {},
   "source": [
    "apple, banana, orange합을 fruit beef, pork 합을 meat열로 만들어서 추가하기"
   ]
  },
  {
   "cell_type": "code",
   "execution_count": null,
   "metadata": {},
   "outputs": [],
   "source": []
  },
  {
   "cell_type": "markdown",
   "metadata": {},
   "source": [
    "# 고기값이 평균 이상인 가게 구하기"
   ]
  },
  {
   "cell_type": "markdown",
   "metadata": {},
   "source": [
    "meat 값의 평균보다 높은 가게의 name출력하기"
   ]
  },
  {
   "cell_type": "code",
   "execution_count": null,
   "metadata": {},
   "outputs": [],
   "source": []
  },
  {
   "cell_type": "markdown",
   "metadata": {},
   "source": [
    "# 그래프 그리기"
   ]
  },
  {
   "cell_type": "markdown",
   "metadata": {},
   "source": [
    "x축이 fruit, y축이 meat인 산점도(scatter)그래프 그리기\n",
    "\n",
    "x축과 y축에 각각 fruit과 meat 라벨을 붙이고, 그래프 이름은 Scatterplot of fruit vs meat로 붙여주세요"
   ]
  },
  {
   "cell_type": "code",
   "execution_count": null,
   "metadata": {},
   "outputs": [],
   "source": []
  }
 ],
 "metadata": {
  "kernelspec": {
   "display_name": "Python 3",
   "language": "python",
   "name": "python3"
  },
  "language_info": {
   "codemirror_mode": {
    "name": "ipython",
    "version": 3
   },
   "file_extension": ".py",
   "mimetype": "text/x-python",
   "name": "python",
   "nbconvert_exporter": "python",
   "pygments_lexer": "ipython3",
   "version": "3.7.3"
  }
 },
 "nbformat": 4,
 "nbformat_minor": 2
}
