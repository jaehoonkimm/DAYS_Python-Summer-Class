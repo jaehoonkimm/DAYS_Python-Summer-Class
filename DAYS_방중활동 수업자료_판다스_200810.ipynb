{
 "cells": [
  {
   "cell_type": "code",
   "execution_count": 1,
   "metadata": {},
   "outputs": [],
   "source": [
    "%matplotlib inline\n",
    "import matplotlib.pyplot as plt\n",
    "import pandas as pd"
   ]
  },
  {
   "cell_type": "code",
   "execution_count": 2,
   "metadata": {},
   "outputs": [],
   "source": [
    "df = pd.read_csv('gapminder.tsv',sep='\\t')\n",
    "# df은 dataframe의 약자\n",
    "# read_csv는 csv파일을 불러오는 함수\n",
    "# 괄호안 첫번째 인자는 파일의 경로 및 파일이름(경로를 지정해줄 때에는 /로 구분하여 표시, ex)내컴퓨터/파이썬/판다스/gapminder.tsv)\n",
    "# 경로 지정시 항상 기준은 현재 파이썬 파일이 들어있는 폴더\n",
    "# 두번째 인자는 데이터들이 무엇으로 구분되어있는지 알려주는 기능\n",
    "# \\t은 탭으로 구분되어 있다는 뜻\n",
    "# 그 외에도 콤마 혹은 띄어쓰기 등 다른 구분자를 사용하는 경우도 있습니다.\n"
   ]
  },
  {
   "cell_type": "code",
   "execution_count": 3,
   "metadata": {},
   "outputs": [
    {
     "name": "stdout",
     "output_type": "stream",
     "text": [
      "       country continent  year  lifeExp       pop   gdpPercap\n",
      "0  Afghanistan      Asia  1952   28.801   8425333  779.445314\n",
      "1  Afghanistan      Asia  1957   30.332   9240934  820.853030\n",
      "2  Afghanistan      Asia  1962   31.997  10267083  853.100710\n",
      "3  Afghanistan      Asia  1967   34.020  11537966  836.197138\n",
      "4  Afghanistan      Asia  1972   36.088  13079460  739.981106\n",
      "--------------------------------------------------\n",
      "       country continent  year  lifeExp       pop   gdpPercap\n",
      "1699  Zimbabwe    Africa  1987   62.351   9216418  706.157306\n",
      "1700  Zimbabwe    Africa  1992   60.377  10704340  693.420786\n",
      "1701  Zimbabwe    Africa  1997   46.809  11404948  792.449960\n",
      "1702  Zimbabwe    Africa  2002   39.989  11926563  672.038623\n",
      "1703  Zimbabwe    Africa  2007   43.487  12311143  469.709298\n",
      "--------------------------------------------------\n",
      "Index(['country', 'continent', 'year', 'lifeExp', 'pop', 'gdpPercap'], dtype='object')\n",
      "--------------------------------------------------\n",
      "(1704, 6)\n"
     ]
    }
   ],
   "source": [
    "print(df.head())\n",
    "#데이터프레임의 윗부분 5개를 가져오는 메소드\n",
    "#괄호 안에 숫자를 넣으면 해당 갯수만큼 불러옵니다.\n",
    "print('--------------------------------------------------')\n",
    "print(df.tail())\n",
    "#.head()와는 반대로 뒤에서 부터 자르는 메소드\n",
    "print('--------------------------------------------------')\n",
    "print(df.columns)\n",
    "#데이터 프레임의 열이름\n",
    "#메소드가 아니라 성질이기 때문에 뒤에 괄호를 붙이지 않습니다.\n",
    "print(\"--------------------------------------------------\")\n",
    "print(df.shape)\n",
    "#데이터프레임의 행과 열의 갯수를 (행,열) 형태로 보여줍니다.\n",
    "#성질이기 때문에 괄호를 붙이지 않습니다.\n",
    "#굳이 메소드냐 성질이냐를 구분해서 기억할 필요 없이 돌려보고 에러가 뜨면 빼서 한번 더 돌려보면 됩니다."
   ]
  },
  {
   "cell_type": "code",
   "execution_count": 4,
   "metadata": {},
   "outputs": [
    {
     "name": "stdout",
     "output_type": "stream",
     "text": [
      "<class 'pandas.core.frame.DataFrame'>\n",
      "RangeIndex: 1704 entries, 0 to 1703\n",
      "Data columns (total 6 columns):\n",
      "country      1704 non-null object\n",
      "continent    1704 non-null object\n",
      "year         1704 non-null int64\n",
      "lifeExp      1704 non-null float64\n",
      "pop          1704 non-null int64\n",
      "gdpPercap    1704 non-null float64\n",
      "dtypes: float64(2), int64(2), object(2)\n",
      "memory usage: 80.0+ KB\n",
      "None\n",
      "--------------------------------------------------\n",
      "country       object\n",
      "continent     object\n",
      "year           int64\n",
      "lifeExp      float64\n",
      "pop            int64\n",
      "gdpPercap    float64\n",
      "dtype: object\n"
     ]
    }
   ],
   "source": [
    "print(df.info())\n",
    "#데이터 프레임의 정보를 가져오는 메소드입니다.\n",
    "#행의 수와 열이름, 각각의 데이터 갯수, 결측값 갯수, 데이터타입 등을 보여줍니다\n",
    "print('--------------------------------------------------')\n",
    "print(df.dtypes)\n",
    "#간단히 각 열별로 데이터 타입을 보여줍니다."
   ]
  },
  {
   "cell_type": "code",
   "execution_count": 5,
   "metadata": {},
   "outputs": [
    {
     "name": "stdout",
     "output_type": "stream",
     "text": [
      "0       Afghanistan\n",
      "1       Afghanistan\n",
      "2       Afghanistan\n",
      "3       Afghanistan\n",
      "4       Afghanistan\n",
      "5       Afghanistan\n",
      "6       Afghanistan\n",
      "7       Afghanistan\n",
      "8       Afghanistan\n",
      "9       Afghanistan\n",
      "10      Afghanistan\n",
      "11      Afghanistan\n",
      "12          Albania\n",
      "13          Albania\n",
      "14          Albania\n",
      "15          Albania\n",
      "16          Albania\n",
      "17          Albania\n",
      "18          Albania\n",
      "19          Albania\n",
      "20          Albania\n",
      "21          Albania\n",
      "22          Albania\n",
      "23          Albania\n",
      "24          Algeria\n",
      "25          Algeria\n",
      "26          Algeria\n",
      "27          Algeria\n",
      "28          Algeria\n",
      "29          Algeria\n",
      "           ...     \n",
      "1674    Yemen, Rep.\n",
      "1675    Yemen, Rep.\n",
      "1676    Yemen, Rep.\n",
      "1677    Yemen, Rep.\n",
      "1678    Yemen, Rep.\n",
      "1679    Yemen, Rep.\n",
      "1680         Zambia\n",
      "1681         Zambia\n",
      "1682         Zambia\n",
      "1683         Zambia\n",
      "1684         Zambia\n",
      "1685         Zambia\n",
      "1686         Zambia\n",
      "1687         Zambia\n",
      "1688         Zambia\n",
      "1689         Zambia\n",
      "1690         Zambia\n",
      "1691         Zambia\n",
      "1692       Zimbabwe\n",
      "1693       Zimbabwe\n",
      "1694       Zimbabwe\n",
      "1695       Zimbabwe\n",
      "1696       Zimbabwe\n",
      "1697       Zimbabwe\n",
      "1698       Zimbabwe\n",
      "1699       Zimbabwe\n",
      "1700       Zimbabwe\n",
      "1701       Zimbabwe\n",
      "1702       Zimbabwe\n",
      "1703       Zimbabwe\n",
      "Name: country, Length: 1704, dtype: object\n"
     ]
    }
   ],
   "source": [
    "print(df['country'])\n",
    "#데이터 프레임에서 'country'라는 이름을 가진 열을 가져옵니다.\n"
   ]
  },
  {
   "cell_type": "code",
   "execution_count": 6,
   "metadata": {},
   "outputs": [
    {
     "name": "stdout",
     "output_type": "stream",
     "text": [
      "0    Afghanistan\n",
      "1    Afghanistan\n",
      "2    Afghanistan\n",
      "3    Afghanistan\n",
      "4    Afghanistan\n",
      "5    Afghanistan\n",
      "6    Afghanistan\n",
      "7    Afghanistan\n",
      "8    Afghanistan\n",
      "9    Afghanistan\n",
      "Name: country, dtype: object\n",
      "---------------------------------------------------------\n",
      "<class 'pandas.core.series.Series'>\n"
     ]
    }
   ],
   "source": [
    "#df_변수명 형태로 저장해서 각각 불러오기 편하게 사용할 수도 있습니다.\n",
    "df_country=df[\"country\"]\n",
    "df_continent = df[\"continent\"]\n",
    "df_year = df[\"year\"]\n",
    "df_lifeExp = df[\"lifeExp\"]\n",
    "df_pop = df[\"pop\"]\n",
    "df_gdpPercap = df[\"gdpPercap\"]\n",
    "\n",
    "print(df_country.head(10))\n",
    "\n",
    "print('---------------------------------------------------------')\n",
    "\n",
    "print(type(df_country))\n",
    "#이렇게 하나의 열을 가져온 경우에는 데이터타입이 Series 형태가 됩니다.\n",
    "#Series는 하나의 열이나 하나의 행을 나타냅니다\n",
    "#경우에 따라서는 하나의 행이라 하더라도 dataframe형태일 수 있습니다. 필요한 경우 그때 그때 type() 함수를 사용해서 확인하면 됩니다."
   ]
  },
  {
   "cell_type": "code",
   "execution_count": 7,
   "metadata": {},
   "outputs": [
    {
     "name": "stdout",
     "output_type": "stream",
     "text": [
      "       country continent  year\n",
      "0  Afghanistan      Asia  1952\n",
      "1  Afghanistan      Asia  1957\n",
      "2  Afghanistan      Asia  1962\n",
      "3  Afghanistan      Asia  1967\n",
      "4  Afghanistan      Asia  1972\n",
      "---------------------------------------------------------\n",
      "<class 'pandas.core.frame.DataFrame'>\n"
     ]
    }
   ],
   "source": [
    "subset=df[['country','continent','year']]\n",
    "print(subset.head())\n",
    "#subset이라는 변수에 'country', 'continent', 'year'라는 세 열만 가져와서 새로운 데이터프레임을 만들어 주는 것입니다.\n",
    "# 이 경우에는 열 3개가 모였기 때문에 dataframe 타입이 됩니다.\n",
    "# df[]안에 하나의 변수만 들어가거나, 여러 변수가 들어가려면 리스트로 만들어서 넣어주어야 합니다.\n",
    "# 혹시 에러가 뜬다면 여러 변수를 넣었는데 리스트로 안묶은건 아닌지 다시 한번 살펴봅시다\n",
    "print('---------------------------------------------------------')\n",
    "\n",
    "print(type(subset))"
   ]
  },
  {
   "cell_type": "code",
   "execution_count": 8,
   "metadata": {},
   "outputs": [
    {
     "name": "stdout",
     "output_type": "stream",
     "text": [
      "country      Afghanistan\n",
      "continent           Asia\n",
      "year                1952\n",
      "lifeExp           28.801\n",
      "pop              8425333\n",
      "gdpPercap        779.445\n",
      "Name: 0, dtype: object\n",
      "---------------------------------------------------------\n",
      "       country continent  year  lifeExp       pop   gdpPercap\n",
      "0  Afghanistan      Asia  1952   28.801   8425333  779.445314\n",
      "1  Afghanistan      Asia  1957   30.332   9240934  820.853030\n",
      "2  Afghanistan      Asia  1962   31.997  10267083  853.100710\n",
      "3  Afghanistan      Asia  1967   34.020  11537966  836.197138\n",
      "4  Afghanistan      Asia  1972   36.088  13079460  739.981106\n",
      "5  Afghanistan      Asia  1977   38.438  14880372  786.113360\n",
      "---------------------------------------------------------\n",
      "        country continent  year  lifeExp      pop    gdpPercap\n",
      "1   Afghanistan      Asia  1957   30.332  9240934   820.853030\n",
      "12      Albania    Europe  1952   55.230  1282697  1601.056136\n",
      "16      Albania    Europe  1972   67.690  2263554  3313.422188\n",
      "18      Albania    Europe  1982   70.420  2780097  3630.880722\n",
      "------------------------------------------------------------\n"
     ]
    }
   ],
   "source": [
    "print(df.loc[0])\n",
    "print('---------------------------------------------------------')\n",
    "print(df.loc[0:5])\n",
    "print('---------------------------------------------------------')\n",
    "print(df.loc[[1,12,16,18]])\n",
    "print('------------------------------------------------------------')\n",
    "#print(df.loc[-1])\n",
    "#loc을 사용한 경우에는 이름으로 불러오면 된다고 생각하시면 됩니다\n",
    "#지금 사용하고 있는 df의 경우에는 행이름과 인덱스 번호가 같기 때문에 크게 구분이 되지 않을 것입니다.\n",
    "#loc에서 숫자는 순서를 나타내는 것이 아니라 각 행의 이름을 나타내는 것입니다.\n",
    "#따라서 -1이라는 이름을 가진 행이 없기 때문에 loc[-1]은 사용 할 수 없습니다.\n"
   ]
  },
  {
   "cell_type": "code",
   "execution_count": 18,
   "metadata": {},
   "outputs": [
    {
     "name": "stdout",
     "output_type": "stream",
     "text": [
      "<class 'pandas.core.frame.DataFrame'>\n",
      "------------------------------------------------------------\n",
      "<class 'pandas.core.series.Series'>\n",
      "------------------------------------------------------------\n",
      "<class 'pandas.core.frame.DataFrame'>\n"
     ]
    }
   ],
   "source": [
    "a = df.tail(1)\n",
    "print(type(a))\n",
    "print('------------------------------------------------------------')\n",
    "b = df.loc[1]\n",
    "print(type(b))\n",
    "print('------------------------------------------------------------')\n",
    "c = df.loc[[1,2,3,4]]\n",
    "print(type(c))\n",
    "#tail(1)로 마지막 행 하나를 가져오면 행이 하나인 데이터프레임이 됩니다\n",
    "#loc[]을 사용해 행 하나를 가져오면 Series가 됩니다.\n",
    "#여러 행을 한번에 불러오면 dataframe이 됩니다."
   ]
  },
  {
   "cell_type": "code",
   "execution_count": 10,
   "metadata": {},
   "outputs": [
    {
     "name": "stdout",
     "output_type": "stream",
     "text": [
      "country      Afghanistan\n",
      "continent           Asia\n",
      "year                1967\n",
      "lifeExp            34.02\n",
      "pop             11537966\n",
      "gdpPercap        836.197\n",
      "Name: 3, dtype: object\n",
      "------------------------------------------------------------\n",
      "       country continent  year  lifeExp       pop   gdpPercap\n",
      "0  Afghanistan      Asia  1952   28.801   8425333  779.445314\n",
      "1  Afghanistan      Asia  1957   30.332   9240934  820.853030\n",
      "2  Afghanistan      Asia  1962   31.997  10267083  853.100710\n",
      "------------------------------------------------------------\n",
      "       country continent  year  lifeExp       pop   gdpPercap\n",
      "0  Afghanistan      Asia  1952   28.801   8425333  779.445314\n",
      "1  Afghanistan      Asia  1957   30.332   9240934  820.853030\n",
      "2  Afghanistan      Asia  1962   31.997  10267083  853.100710\n",
      "3  Afghanistan      Asia  1967   34.020  11537966  836.197138\n",
      "------------------------------------------------------------\n",
      "country      Zimbabwe\n",
      "continent      Africa\n",
      "year             2007\n",
      "lifeExp        43.487\n",
      "pop          12311143\n",
      "gdpPercap     469.709\n",
      "Name: 1703, dtype: object\n",
      "------------------------------------------------------------\n",
      "country      Zimbabwe\n",
      "continent      Africa\n",
      "year             2007\n",
      "lifeExp        43.487\n",
      "pop          12311143\n",
      "gdpPercap     469.709\n",
      "Name: 1703, dtype: object\n"
     ]
    }
   ],
   "source": [
    "print(df.iloc[3])\n",
    "print('------------------------------------------------------------')\n",
    "print(df.iloc[0:3])\n",
    "print('------------------------------------------------------------')\n",
    "print(df.iloc[[0,1,2,3]])\n",
    "print('------------------------------------------------------------')\n",
    "print(df.iloc[-1])\n",
    "print('------------------------------------------------------------')\n",
    "print(df.iloc[1703])\n",
    "\n",
    "#iloc의 경우에는 행 혹은 열 번호로 데이터를 가져옵니다.\n",
    "#리스트에서 인덱스로 데이터를 불러오는 것과 비슷하다고 생각하시면 됩니다.\n",
    "#따라서 -1로 마지막 행을 불러 올 수 있습니다.\n",
    "\n",
    "### 교재에서는 loc은 인덱스, iloc을 행번호 기준으로 데이터를 추출한다고 되어있습니다.\n",
    "### 여기서 인덱스는 리스트에서 순서를 의미하는 인덱스와는 의미가 다릅니다.\n",
    "### 리스트에서 사용하는 인덱스라는 개념을 여기서는 행 번호라고 설명합니다.\n",
    "### 인덱스는 행이나 열 이름이라고 생각하시면 될것 같습니다 ex) 'country', 'year'\n",
    "### 강의를 진행하면서 이 부분에서 헷갈리는 분들이 있을 수 있는데, 따로 설명을 안했던것 같아서 강조해 보았습니다."
   ]
  },
  {
   "cell_type": "code",
   "execution_count": 11,
   "metadata": {},
   "outputs": [
    {
     "name": "stdout",
     "output_type": "stream",
     "text": [
      "       country  year\n",
      "0  Afghanistan  1952\n",
      "1  Afghanistan  1957\n",
      "2  Afghanistan  1962\n",
      "3  Afghanistan  1967\n",
      "4  Afghanistan  1972\n",
      "-----------------------------------------------------------\n",
      "       country  year\n",
      "0  Afghanistan  1952\n",
      "1  Afghanistan  1957\n",
      "2  Afghanistan  1962\n",
      "3  Afghanistan  1967\n",
      "4  Afghanistan  1972\n"
     ]
    }
   ],
   "source": [
    "print(df.loc[:,[\"country\",'year']].head())\n",
    "print(\"-----------------------------------------------------------\")\n",
    "print(df.iloc[:,[0,2]].head())\n",
    "\n",
    "#df.iloc[]이나 df.loc[]의 []안에는 인자를 2개 넣을 수 있습니다.\n",
    "#하나만 넣는다면 행에서 검색을 하게 됩니다\n",
    "#2개를 넣는다면 [행, 열]로 검색하게 됩니다.\n",
    "#df.iloc[:,[0,2]]는 [행전체, [0,2번째 열] ]을 불러온다는 뜻입니다.\n",
    "#df.iloc[:,[0,2]]의 결과물은 데이터프레임 타입입니다. 따라서 .head()라는 메소드를 붙일 수 있습니다."
   ]
  },
  {
   "cell_type": "code",
   "execution_count": 12,
   "metadata": {},
   "outputs": [
    {
     "name": "stdout",
     "output_type": "stream",
     "text": [
      "        country  year\n",
      "10  Afghanistan  2002\n",
      "11  Afghanistan  2007\n",
      "12      Albania  1952\n",
      "13      Albania  1957\n",
      "14      Albania  1962\n",
      "15      Albania  1967\n",
      "16      Albania  1972\n",
      "17      Albania  1977\n",
      "18      Albania  1982\n",
      "19      Albania  1987\n"
     ]
    }
   ],
   "source": [
    "print(df.iloc[10:20,[0,2]])\n",
    "#행 열에서 원하는 만큼만 지정해서 출력 할 수 있습니다."
   ]
  },
  {
   "cell_type": "code",
   "execution_count": 19,
   "metadata": {},
   "outputs": [
    {
     "name": "stdout",
     "output_type": "stream",
     "text": [
      "        lifeExp           pop     gdpPercap\n",
      "year                                       \n",
      "1952  49.057620  1.695040e+07   3725.276046\n",
      "1957  51.507401  1.876341e+07   4299.408345\n",
      "1962  53.609249  2.042101e+07   4725.812342\n",
      "1967  55.678290  2.265830e+07   5483.653047\n",
      "1972  57.647386  2.518998e+07   6770.082815\n",
      "1977  59.570157  2.767638e+07   7313.166421\n",
      "1982  61.533197  3.020730e+07   7518.901673\n",
      "1987  63.212613  3.303857e+07   7900.920218\n",
      "1992  64.160338  3.599092e+07   8158.608521\n",
      "1997  65.014676  3.883947e+07   9090.175363\n",
      "2002  65.694923  4.145759e+07   9917.848365\n",
      "2007  67.007423  4.402122e+07  11680.071820\n",
      "-----------------------------------------------------------\n",
      "              year  lifeExp        pop     gdpPercap\n",
      "country                                             \n",
      "Albania      23754  821.195   30962990  39064.399592\n",
      "Afghanistan  23754  449.746  189884585   9632.095181\n",
      "-----------------------------------------------------------\n",
      "continent\n",
      "Africa      52\n",
      "Americas    25\n",
      "Asia        33\n",
      "Europe      30\n",
      "Oceania      2\n",
      "Name: country, dtype: int64\n",
      "-----------------------------------------------------------\n",
      "                                  gdpPercap        pop\n",
      "year country                                          \n",
      "1952 Afghanistan                 779.445314    8425333\n",
      "     Albania                    1601.056136    1282697\n",
      "     Algeria                    2449.008185    9279525\n",
      "     Angola                     3520.610273    4232095\n",
      "     Argentina                  5911.315053   17876956\n",
      "     Australia                 10039.595640    8691212\n",
      "     Austria                    6137.076492    6927772\n",
      "     Bahrain                    9867.084765     120447\n",
      "     Bangladesh                  684.244172   46886859\n",
      "     Belgium                    8343.105127    8730405\n",
      "     Benin                      1062.752200    1738315\n",
      "     Bolivia                    2677.326347    2883315\n",
      "     Bosnia and Herzegovina      973.533195    2791000\n",
      "     Botswana                    851.241141     442308\n",
      "     Brazil                     2108.944355   56602560\n",
      "     Bulgaria                   2444.286648    7274900\n",
      "     Burkina Faso                543.255241    4469979\n",
      "     Burundi                     339.296459    2445618\n",
      "     Cambodia                    368.469286    4693836\n",
      "     Cameroon                   1172.667655    5009067\n",
      "     Canada                    11367.161120   14785584\n",
      "     Central African Republic   1071.310713    1291695\n",
      "     Chad                       1178.665927    2682462\n",
      "     Chile                      3939.978789    6377619\n",
      "     China                       400.448611  556263527\n",
      "     Colombia                   2144.115096   12350771\n",
      "     Comoros                    1102.990936     153936\n",
      "     Congo, Dem. Rep.            780.542326   14100005\n",
      "     Congo, Rep.                2125.621418     854885\n",
      "     Costa Rica                 2627.009471     926317\n",
      "...                                     ...        ...\n",
      "2007 Sierra Leone                862.540756    6144562\n",
      "     Singapore                 47143.179640    4553009\n",
      "     Slovak Republic           18678.314350    5447502\n",
      "     Slovenia                  25768.257590    2009245\n",
      "     Somalia                     926.141068    9118773\n",
      "     South Africa               9269.657808   43997828\n",
      "     Spain                     28821.063700   40448191\n",
      "     Sri Lanka                  3970.095407   20378239\n",
      "     Sudan                      2602.394995   42292929\n",
      "     Swaziland                  4513.480643    1133066\n",
      "     Sweden                    33859.748350    9031088\n",
      "     Switzerland               37506.419070    7554661\n",
      "     Syria                      4184.548089   19314747\n",
      "     Taiwan                    28718.276840   23174294\n",
      "     Tanzania                   1107.482182   38139640\n",
      "     Thailand                   7458.396327   65068149\n",
      "     Togo                        882.969944    5701579\n",
      "     Trinidad and Tobago       18008.509240    1056608\n",
      "     Tunisia                    7092.923025   10276158\n",
      "     Turkey                     8458.276384   71158647\n",
      "     Uganda                     1056.380121   29170398\n",
      "     United Kingdom            33203.261280   60776238\n",
      "     United States             42951.653090  301139947\n",
      "     Uruguay                   10611.462990    3447496\n",
      "     Venezuela                 11415.805690   26084662\n",
      "     Vietnam                    2441.576404   85262356\n",
      "     West Bank and Gaza         3025.349798    4018332\n",
      "     Yemen, Rep.                2280.769906   22211743\n",
      "     Zambia                     1271.211593   11746035\n",
      "     Zimbabwe                    469.709298   12311143\n",
      "\n",
      "[1704 rows x 2 columns]\n"
     ]
    }
   ],
   "source": [
    "print(df.groupby('year').mean())\n",
    "#groupby()는 괄호안의 변수 기준으로 묶어주게 됩니다.\n",
    "#뒤에 .mean은 기준 변수로 묶어서 평균을 내겠다는 의미입니다.\n",
    "#위 코드는 연도별 평균값들을 보여줍니다.ex)연평균 기대수명\n",
    "print(\"-----------------------------------------------------------\")\n",
    "print(df.groupby(\"country\").sum().loc[[\"Albania\",\"Afghanistan\"]])\n",
    "#sum 함수로 합계를 구할 수 있습니다.\n",
    "#위 코드는 나라별 합계를 가져옵니다. 사실상 유의미한 처리는 아니지만 나라별 gdpPercap의 합 등을 구할 수 있습니다.\n",
    "#뒤에 loc을 사용해서 행에서 알바니아와 아프가니스탄의 값만 가져오게 됩니다.\n",
    "print(\"-----------------------------------------------------------\")\n",
    "print(df.groupby(\"continent\")[\"country\"].nunique())\n",
    "\n",
    "#nunique는 그룹화한 데이터의 개수를 확인할 수 있습니다.\n",
    "#continent으로 country를 묶고, 각각의 continent 안에 country가 몇 개씩 묶였는지 확인 할 수 있습니다.\n",
    "\n",
    "print(\"-----------------------------------------------------------\")\n",
    "print(df.groupby([\"year\",\"country\"])[['gdpPercap',\"pop\"]].mean())\n",
    "#묶는 기준은 하나가 아니라 2개 이상일 수 있습니다.\n",
    "#기준이 되는 변수 순서를 바꾸면, 결과 데이터도 바뀌게 됩니다."
   ]
  },
  {
   "cell_type": "code",
   "execution_count": 14,
   "metadata": {},
   "outputs": [
    {
     "name": "stdout",
     "output_type": "stream",
     "text": [
      "year\n",
      "1952    49.057620\n",
      "1957    51.507401\n",
      "1962    53.609249\n",
      "1967    55.678290\n",
      "1972    57.647386\n",
      "1977    59.570157\n",
      "1982    61.533197\n",
      "1987    63.212613\n",
      "1992    64.160338\n",
      "1997    65.014676\n",
      "2002    65.694923\n",
      "2007    67.007423\n",
      "Name: lifeExp, dtype: float64\n"
     ]
    },
    {
     "data": {
      "text/plain": [
       "<matplotlib.axes._subplots.AxesSubplot at 0x1afe0a5e518>"
      ]
     },
     "execution_count": 14,
     "metadata": {},
     "output_type": "execute_result"
    },
    {
     "data": {
      "image/png": "[encoded data removed]",
      "text/plain": [
       "<Figure size 432x288 with 1 Axes>"
      ]
     },
     "metadata": {
      "needs_background": "light"
     },
     "output_type": "display_data"
    }
   ],
   "source": [
    "global_yearly_lifeExp = df.groupby('year')[\"lifeExp\"].mean()\n",
    "print(global_yearly_lifeExp)\n",
    "global_yearly_lifeExp.plot()\n",
    "\n",
    "#그룹화된 데이터를 그래프로 나타낼 수 있습니다."
   ]
  }
 ],
 "metadata": {
  "kernelspec": {
   "display_name": "Python 3",
   "language": "python",
   "name": "python3"
  },
  "language_info": {
   "codemirror_mode": {
    "name": "ipython",
    "version": 3
   },
   "file_extension": ".py",
   "mimetype": "text/x-python",
   "name": "python",
   "nbconvert_exporter": "python",
   "pygments_lexer": "ipython3",
   "version": "3.7.3"
  }
 },
 "nbformat": 4,
 "nbformat_minor": 2
}
