{
 "cells": [
  {
   "cell_type": "markdown",
   "metadata": {},
   "source": [
    "### 조건문 & 반복문 => 제어문"
   ]
  },
  {
   "cell_type": "code",
   "execution_count": 13,
   "metadata": {},
   "outputs": [],
   "source": [
    "# if(조건이 참이면 아래에 있는 문장 실행, 거짓이면 실행 X):\n",
    "#     실행할 문장"
   ]
  },
  {
   "cell_type": "code",
   "execution_count": 15,
   "metadata": {},
   "outputs": [
    {
     "name": "stdout",
     "output_type": "stream",
     "text": [
      "55\n"
     ]
    }
   ],
   "source": [
    "# 1~10까지 더하고 싶다.\n",
    "\n",
    "print(1+2+3+4+5+6+7+8+9+10)"
   ]
  },
  {
   "cell_type": "code",
   "execution_count": 17,
   "metadata": {},
   "outputs": [
    {
     "name": "stdout",
     "output_type": "stream",
     "text": [
      "55\n"
     ]
    }
   ],
   "source": [
    "a = 1+2+3+4+5+6+7+8+9+10\n",
    "print(a)"
   ]
  },
  {
   "cell_type": "code",
   "execution_count": 18,
   "metadata": {},
   "outputs": [],
   "source": [
    "# 만약 1~100000까지 더하고 싶다면?\n",
    "\n",
    "# 반복문 => while, for"
   ]
  },
  {
   "cell_type": "code",
   "execution_count": 19,
   "metadata": {},
   "outputs": [],
   "source": [
    "# while(조건이 참이면 아래 문장 실행(거짓이 아닐 때까지 반복해서 실행), 거짓이면 실행 X):\n",
    "#     print(a)"
   ]
  },
  {
   "cell_type": "code",
   "execution_count": 22,
   "metadata": {},
   "outputs": [
    {
     "name": "stdout",
     "output_type": "stream",
     "text": [
      "빵을 산다\n"
     ]
    }
   ],
   "source": [
    "money = 3000\n",
    "if(money>2500):\n",
    "    print(\"빵을 산다\")"
   ]
  },
  {
   "cell_type": "code",
   "execution_count": 1,
   "metadata": {},
   "outputs": [],
   "source": [
    "#무한 루프에 빠진다 \n",
    "#(아래 코드 두 줄을 드래그 한 후, \"Ctrl + /(컨트롤+슬래시)\"키를 눌러주거나, 또는 앞에 붙은 #을 지워주면 주석이 해제됨.)\n",
    "#이후에 실행해보면 무한 루프에 빠짐을 알 수 있음. 정지하려면 위쪽 메뉴 중 Run 버튼 우측의 네모 모양 interrupt the kernel 버튼 클릭.\n",
    "\n",
    "\n",
    "# while(money>2500):\n",
    "#     print(\"빵을 산다\")"
   ]
  },
  {
   "cell_type": "code",
   "execution_count": 50,
   "metadata": {},
   "outputs": [
    {
     "name": "stdout",
     "output_type": "stream",
     "text": [
      "빵을 산다.\n",
      "잔고 :  9000\n",
      "빵을 산다.\n",
      "잔고 :  8000\n",
      "빵을 산다.\n",
      "잔고 :  7000\n",
      "빵을 산다.\n",
      "잔고 :  6000\n",
      "빵을 산다.\n",
      "잔고 :  5000\n",
      "빵을 산다.\n",
      "잔고 :  4000\n",
      "빵을 산다.\n",
      "잔고 :  3000\n",
      "빵을 산다.\n",
      "잔고 :  2000\n",
      "빵을 산다.\n",
      "잔고 :  1000\n",
      "빵을 산다.\n",
      "잔고 :  0\n"
     ]
    }
   ],
   "source": [
    "# 정상적인 while의 사용 (무한 루프에 빠지지 않도록)\n",
    "money_2 = 10000\n",
    "price_bread = 1000\n",
    "\n",
    "while(money_2>=1000):\n",
    "    print(\"빵을 산다.\")\n",
    "    money_2 = money_2 - price_bread\n",
    "    \n",
    "    print(\"잔고 : \", money_2)\n",
    "    "
   ]
  },
  {
   "cell_type": "code",
   "execution_count": 65,
   "metadata": {},
   "outputs": [
    {
     "name": "stdout",
     "output_type": "stream",
     "text": [
      "while문 실행! count :  0\n",
      "while문 실행! count :  1\n",
      "while문 실행! count :  2\n",
      "while문 실행! count :  3\n",
      "while문 실행! count :  4\n",
      "while문 실행! count :  5\n",
      "while문 실행! count :  6\n",
      "while문 실행! count :  7\n",
      "while문 실행! count :  8\n",
      "while문 실행! count :  9\n"
     ]
    }
   ],
   "source": [
    "# 강제적인 while(반복문)문의 종료 => break : 반복문을 강제로 종료시키는 명령어\n",
    "\n",
    "count = 0\n",
    "while(True):\n",
    "    print(\"while문 실행!\", 'count : ', count)\n",
    "    count = count + 1\n",
    "    if(count == 10):\n",
    "        break\n",
    "    "
   ]
  },
  {
   "cell_type": "code",
   "execution_count": 66,
   "metadata": {},
   "outputs": [
    {
     "name": "stdout",
     "output_type": "stream",
     "text": [
      "5000050000\n"
     ]
    }
   ],
   "source": [
    "# 1~100000까지 더하기\n",
    "sum_result = 0\n",
    "count_2 = 1\n",
    "while(count_2<=100000):\n",
    "    sum_result = sum_result + count_2\n",
    "    count_2 = count_2+1\n",
    "    \n",
    "print(sum_result)"
   ]
  },
  {
   "cell_type": "markdown",
   "metadata": {},
   "source": [
    "### for문"
   ]
  },
  {
   "cell_type": "code",
   "execution_count": 1,
   "metadata": {},
   "outputs": [],
   "source": [
    "# for문 역시 반복문\n",
    "\n",
    "# for 변수 in 리스트(또는 변수):\n",
    "#     실행할 내용 ..."
   ]
  },
  {
   "cell_type": "code",
   "execution_count": 3,
   "metadata": {},
   "outputs": [],
   "source": [
    "students_list = [\"민주\", \"유진\", \"은선\"]"
   ]
  },
  {
   "cell_type": "code",
   "execution_count": 4,
   "metadata": {},
   "outputs": [
    {
     "name": "stdout",
     "output_type": "stream",
     "text": [
      "민주\n",
      "유진\n",
      "은선\n"
     ]
    }
   ],
   "source": [
    "for 학생 in students_list:\n",
    "    print(학생)"
   ]
  },
  {
   "cell_type": "code",
   "execution_count": 11,
   "metadata": {},
   "outputs": [],
   "source": [
    "# range 함수 : 입력한 숫자만큼의 길이의 수를 만들어냄\n",
    "# for문에 응용해서 원하는 만큼 for문을 반복시킬 수 있음\n",
    "\n",
    "# for i in range() => 일반적으로 쓰이는 for문의 형태\n",
    "# range(5) = range(0 ~ 5-1) => 0, 1, 2, 3, 4"
   ]
  },
  {
   "cell_type": "code",
   "execution_count": 12,
   "metadata": {},
   "outputs": [
    {
     "name": "stdout",
     "output_type": "stream",
     "text": [
      "0\n",
      "1\n",
      "2\n",
      "3\n",
      "4\n"
     ]
    }
   ],
   "source": [
    "for 숫자 in range(5):\n",
    "    print(숫자)"
   ]
  },
  {
   "cell_type": "code",
   "execution_count": 15,
   "metadata": {},
   "outputs": [
    {
     "name": "stdout",
     "output_type": "stream",
     "text": [
      "5000050000\n"
     ]
    }
   ],
   "source": [
    "# 다시, 1~100000까지 더하기\n",
    "num_result = 0\n",
    "\n",
    "for number in range(100001): # range(100001) => 0~100000\n",
    "    num_result = num_result + number\n",
    "    \n",
    "print(num_result)"
   ]
  }
 ],
 "metadata": {
  "kernelspec": {
   "display_name": "Python 3",
   "language": "python",
   "name": "python3"
  },
  "language_info": {
   "codemirror_mode": {
    "name": "ipython",
    "version": 3
   },
   "file_extension": ".py",
   "mimetype": "text/x-python",
   "name": "python",
   "nbconvert_exporter": "python",
   "pygments_lexer": "ipython3",
   "version": "3.7.6"
  }
 },
 "nbformat": 4,
 "nbformat_minor": 4
}
